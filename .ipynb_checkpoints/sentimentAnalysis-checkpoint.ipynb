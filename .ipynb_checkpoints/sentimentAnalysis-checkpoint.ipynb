{
 "cells": [
  {
   "cell_type": "markdown",
   "metadata": {
    "id": "zkjIkJgXoR2u"
   },
   "source": [
    "**Importing the necessary Libraries**"
   ]
  },
  {
   "cell_type": "code",
   "execution_count": 1,
   "metadata": {
    "id": "1iACPwUz6rUY"
   },
   "outputs": [],
   "source": [
    "import numpy as np\n",
    "import pandas as pd\n",
    "import matplotlib.pyplot as plt\n",
    "import seaborn as sns\n"
   ]
  },
  {
   "cell_type": "code",
   "execution_count": 2,
   "metadata": {
    "colab": {
     "base_uri": "https://localhost:8080/",
     "height": 206
    },
    "id": "58B29Q0E7MNd",
    "outputId": "1a5bed73-c0fc-452f-a6fb-ba50c5b59bc9"
   },
   "outputs": [
    {
     "data": {
      "application/vnd.google.colaboratory.intrinsic+json": {
       "type": "dataframe",
       "variable_name": "df"
      },
      "text/html": [
       "\n",
       "  <div id=\"df-cdc3f9ab-1261-4ff8-a93f-b9bbd063bc1a\" class=\"colab-df-container\">\n",
       "    <div>\n",
       "<style scoped>\n",
       "    .dataframe tbody tr th:only-of-type {\n",
       "        vertical-align: middle;\n",
       "    }\n",
       "\n",
       "    .dataframe tbody tr th {\n",
       "        vertical-align: top;\n",
       "    }\n",
       "\n",
       "    .dataframe thead th {\n",
       "        text-align: right;\n",
       "    }\n",
       "</style>\n",
       "<table border=\"1\" class=\"dataframe\">\n",
       "  <thead>\n",
       "    <tr style=\"text-align: right;\">\n",
       "      <th></th>\n",
       "      <th>Unnamed: 0</th>\n",
       "      <th>tweets</th>\n",
       "      <th>labels</th>\n",
       "    </tr>\n",
       "  </thead>\n",
       "  <tbody>\n",
       "    <tr>\n",
       "      <th>0</th>\n",
       "      <td>1</td>\n",
       "      <td>Try talking with ChatGPT, our new AI system wh...</td>\n",
       "      <td>good</td>\n",
       "    </tr>\n",
       "    <tr>\n",
       "      <th>1</th>\n",
       "      <td>3</td>\n",
       "      <td>THRILLED to share that ChatGPT, our new model ...</td>\n",
       "      <td>good</td>\n",
       "    </tr>\n",
       "    <tr>\n",
       "      <th>2</th>\n",
       "      <td>4</td>\n",
       "      <td>As of 2 minutes ago, @OpenAI released their ne...</td>\n",
       "      <td>bad</td>\n",
       "    </tr>\n",
       "    <tr>\n",
       "      <th>3</th>\n",
       "      <td>5</td>\n",
       "      <td>Just launched ChatGPT, our new AI system which...</td>\n",
       "      <td>good</td>\n",
       "    </tr>\n",
       "    <tr>\n",
       "      <th>4</th>\n",
       "      <td>6</td>\n",
       "      <td>As of 2 minutes ago, @OpenAI released their ne...</td>\n",
       "      <td>bad</td>\n",
       "    </tr>\n",
       "  </tbody>\n",
       "</table>\n",
       "</div>\n",
       "    <div class=\"colab-df-buttons\">\n",
       "\n",
       "  <div class=\"colab-df-container\">\n",
       "    <button class=\"colab-df-convert\" onclick=\"convertToInteractive('df-cdc3f9ab-1261-4ff8-a93f-b9bbd063bc1a')\"\n",
       "            title=\"Convert this dataframe to an interactive table.\"\n",
       "            style=\"display:none;\">\n",
       "\n",
       "  <svg xmlns=\"http://www.w3.org/2000/svg\" height=\"24px\" viewBox=\"0 -960 960 960\">\n",
       "    <path d=\"M120-120v-720h720v720H120Zm60-500h600v-160H180v160Zm220 220h160v-160H400v160Zm0 220h160v-160H400v160ZM180-400h160v-160H180v160Zm440 0h160v-160H620v160ZM180-180h160v-160H180v160Zm440 0h160v-160H620v160Z\"/>\n",
       "  </svg>\n",
       "    </button>\n",
       "\n",
       "  <style>\n",
       "    .colab-df-container {\n",
       "      display:flex;\n",
       "      gap: 12px;\n",
       "    }\n",
       "\n",
       "    .colab-df-convert {\n",
       "      background-color: #E8F0FE;\n",
       "      border: none;\n",
       "      border-radius: 50%;\n",
       "      cursor: pointer;\n",
       "      display: none;\n",
       "      fill: #1967D2;\n",
       "      height: 32px;\n",
       "      padding: 0 0 0 0;\n",
       "      width: 32px;\n",
       "    }\n",
       "\n",
       "    .colab-df-convert:hover {\n",
       "      background-color: #E2EBFA;\n",
       "      box-shadow: 0px 1px 2px rgba(60, 64, 67, 0.3), 0px 1px 3px 1px rgba(60, 64, 67, 0.15);\n",
       "      fill: #174EA6;\n",
       "    }\n",
       "\n",
       "    .colab-df-buttons div {\n",
       "      margin-bottom: 4px;\n",
       "    }\n",
       "\n",
       "    [theme=dark] .colab-df-convert {\n",
       "      background-color: #3B4455;\n",
       "      fill: #D2E3FC;\n",
       "    }\n",
       "\n",
       "    [theme=dark] .colab-df-convert:hover {\n",
       "      background-color: #434B5C;\n",
       "      box-shadow: 0px 1px 3px 1px rgba(0, 0, 0, 0.15);\n",
       "      filter: drop-shadow(0px 1px 2px rgba(0, 0, 0, 0.3));\n",
       "      fill: #FFFFFF;\n",
       "    }\n",
       "  </style>\n",
       "\n",
       "    <script>\n",
       "      const buttonEl =\n",
       "        document.querySelector('#df-cdc3f9ab-1261-4ff8-a93f-b9bbd063bc1a button.colab-df-convert');\n",
       "      buttonEl.style.display =\n",
       "        google.colab.kernel.accessAllowed ? 'block' : 'none';\n",
       "\n",
       "      async function convertToInteractive(key) {\n",
       "        const element = document.querySelector('#df-cdc3f9ab-1261-4ff8-a93f-b9bbd063bc1a');\n",
       "        const dataTable =\n",
       "          await google.colab.kernel.invokeFunction('convertToInteractive',\n",
       "                                                    [key], {});\n",
       "        if (!dataTable) return;\n",
       "\n",
       "        const docLinkHtml = 'Like what you see? Visit the ' +\n",
       "          '<a target=\"_blank\" href=https://colab.research.google.com/notebooks/data_table.ipynb>data table notebook</a>'\n",
       "          + ' to learn more about interactive tables.';\n",
       "        element.innerHTML = '';\n",
       "        dataTable['output_type'] = 'display_data';\n",
       "        await google.colab.output.renderOutput(dataTable, element);\n",
       "        const docLink = document.createElement('div');\n",
       "        docLink.innerHTML = docLinkHtml;\n",
       "        element.appendChild(docLink);\n",
       "      }\n",
       "    </script>\n",
       "  </div>\n",
       "\n",
       "\n",
       "<div id=\"df-26d9b838-ae83-4ffa-b0b7-612eaa9eb1ac\">\n",
       "  <button class=\"colab-df-quickchart\" onclick=\"quickchart('df-26d9b838-ae83-4ffa-b0b7-612eaa9eb1ac')\"\n",
       "            title=\"Suggest charts\"\n",
       "            style=\"display:none;\">\n",
       "\n",
       "<svg xmlns=\"http://www.w3.org/2000/svg\" height=\"24px\"viewBox=\"0 0 24 24\"\n",
       "     width=\"24px\">\n",
       "    <g>\n",
       "        <path d=\"M19 3H5c-1.1 0-2 .9-2 2v14c0 1.1.9 2 2 2h14c1.1 0 2-.9 2-2V5c0-1.1-.9-2-2-2zM9 17H7v-7h2v7zm4 0h-2V7h2v10zm4 0h-2v-4h2v4z\"/>\n",
       "    </g>\n",
       "</svg>\n",
       "  </button>\n",
       "\n",
       "<style>\n",
       "  .colab-df-quickchart {\n",
       "      --bg-color: #E8F0FE;\n",
       "      --fill-color: #1967D2;\n",
       "      --hover-bg-color: #E2EBFA;\n",
       "      --hover-fill-color: #174EA6;\n",
       "      --disabled-fill-color: #AAA;\n",
       "      --disabled-bg-color: #DDD;\n",
       "  }\n",
       "\n",
       "  [theme=dark] .colab-df-quickchart {\n",
       "      --bg-color: #3B4455;\n",
       "      --fill-color: #D2E3FC;\n",
       "      --hover-bg-color: #434B5C;\n",
       "      --hover-fill-color: #FFFFFF;\n",
       "      --disabled-bg-color: #3B4455;\n",
       "      --disabled-fill-color: #666;\n",
       "  }\n",
       "\n",
       "  .colab-df-quickchart {\n",
       "    background-color: var(--bg-color);\n",
       "    border: none;\n",
       "    border-radius: 50%;\n",
       "    cursor: pointer;\n",
       "    display: none;\n",
       "    fill: var(--fill-color);\n",
       "    height: 32px;\n",
       "    padding: 0;\n",
       "    width: 32px;\n",
       "  }\n",
       "\n",
       "  .colab-df-quickchart:hover {\n",
       "    background-color: var(--hover-bg-color);\n",
       "    box-shadow: 0 1px 2px rgba(60, 64, 67, 0.3), 0 1px 3px 1px rgba(60, 64, 67, 0.15);\n",
       "    fill: var(--button-hover-fill-color);\n",
       "  }\n",
       "\n",
       "  .colab-df-quickchart-complete:disabled,\n",
       "  .colab-df-quickchart-complete:disabled:hover {\n",
       "    background-color: var(--disabled-bg-color);\n",
       "    fill: var(--disabled-fill-color);\n",
       "    box-shadow: none;\n",
       "  }\n",
       "\n",
       "  .colab-df-spinner {\n",
       "    border: 2px solid var(--fill-color);\n",
       "    border-color: transparent;\n",
       "    border-bottom-color: var(--fill-color);\n",
       "    animation:\n",
       "      spin 1s steps(1) infinite;\n",
       "  }\n",
       "\n",
       "  @keyframes spin {\n",
       "    0% {\n",
       "      border-color: transparent;\n",
       "      border-bottom-color: var(--fill-color);\n",
       "      border-left-color: var(--fill-color);\n",
       "    }\n",
       "    20% {\n",
       "      border-color: transparent;\n",
       "      border-left-color: var(--fill-color);\n",
       "      border-top-color: var(--fill-color);\n",
       "    }\n",
       "    30% {\n",
       "      border-color: transparent;\n",
       "      border-left-color: var(--fill-color);\n",
       "      border-top-color: var(--fill-color);\n",
       "      border-right-color: var(--fill-color);\n",
       "    }\n",
       "    40% {\n",
       "      border-color: transparent;\n",
       "      border-right-color: var(--fill-color);\n",
       "      border-top-color: var(--fill-color);\n",
       "    }\n",
       "    60% {\n",
       "      border-color: transparent;\n",
       "      border-right-color: var(--fill-color);\n",
       "    }\n",
       "    80% {\n",
       "      border-color: transparent;\n",
       "      border-right-color: var(--fill-color);\n",
       "      border-bottom-color: var(--fill-color);\n",
       "    }\n",
       "    90% {\n",
       "      border-color: transparent;\n",
       "      border-bottom-color: var(--fill-color);\n",
       "    }\n",
       "  }\n",
       "</style>\n",
       "\n",
       "  <script>\n",
       "    async function quickchart(key) {\n",
       "      const quickchartButtonEl =\n",
       "        document.querySelector('#' + key + ' button');\n",
       "      quickchartButtonEl.disabled = true;  // To prevent multiple clicks.\n",
       "      quickchartButtonEl.classList.add('colab-df-spinner');\n",
       "      try {\n",
       "        const charts = await google.colab.kernel.invokeFunction(\n",
       "            'suggestCharts', [key], {});\n",
       "      } catch (error) {\n",
       "        console.error('Error during call to suggestCharts:', error);\n",
       "      }\n",
       "      quickchartButtonEl.classList.remove('colab-df-spinner');\n",
       "      quickchartButtonEl.classList.add('colab-df-quickchart-complete');\n",
       "    }\n",
       "    (() => {\n",
       "      let quickchartButtonEl =\n",
       "        document.querySelector('#df-26d9b838-ae83-4ffa-b0b7-612eaa9eb1ac button');\n",
       "      quickchartButtonEl.style.display =\n",
       "        google.colab.kernel.accessAllowed ? 'block' : 'none';\n",
       "    })();\n",
       "  </script>\n",
       "</div>\n",
       "\n",
       "    </div>\n",
       "  </div>\n"
      ],
      "text/plain": [
       "   Unnamed: 0                                             tweets labels\n",
       "0           1  Try talking with ChatGPT, our new AI system wh...   good\n",
       "1           3  THRILLED to share that ChatGPT, our new model ...   good\n",
       "2           4  As of 2 minutes ago, @OpenAI released their ne...    bad\n",
       "3           5  Just launched ChatGPT, our new AI system which...   good\n",
       "4           6  As of 2 minutes ago, @OpenAI released their ne...    bad"
      ]
     },
     "execution_count": 2,
     "metadata": {},
     "output_type": "execute_result"
    }
   ],
   "source": [
    "df = pd.read_csv('chatGpt_tweets.csv')   # loading the Dataset.\n",
    "df.head()  # printing the first five rows of the dataset."
   ]
  },
  {
   "cell_type": "code",
   "execution_count": 3,
   "metadata": {
    "id": "CrORQXJU92pw"
   },
   "outputs": [],
   "source": [
    "df.drop(columns='Unnamed: 0',inplace=True)  #drop the column that has no value"
   ]
  },
  {
   "cell_type": "code",
   "execution_count": 4,
   "metadata": {
    "colab": {
     "base_uri": "https://localhost:8080/"
    },
    "id": "OtCZ9bfh9pHH",
    "outputId": "01460838-1801-4e43-b71b-e72b4653b4b5"
   },
   "outputs": [
    {
     "data": {
      "text/plain": [
       "(162449, 2)"
      ]
     },
     "execution_count": 4,
     "metadata": {},
     "output_type": "execute_result"
    }
   ],
   "source": [
    "df.shape # checking the size and shape of the dataset."
   ]
  },
  {
   "cell_type": "code",
   "execution_count": 5,
   "metadata": {
    "colab": {
     "base_uri": "https://localhost:8080/"
    },
    "id": "sy00VSa59zA0",
    "outputId": "dec670fa-142d-44ed-8ec9-e87dc8a03ca5"
   },
   "outputs": [
    {
     "name": "stdout",
     "output_type": "stream",
     "text": [
      "<class 'pandas.core.frame.DataFrame'>\n",
      "RangeIndex: 162449 entries, 0 to 162448\n",
      "Data columns (total 2 columns):\n",
      " #   Column  Non-Null Count   Dtype \n",
      "---  ------  --------------   ----- \n",
      " 0   tweets  162449 non-null  object\n",
      " 1   labels  162449 non-null  object\n",
      "dtypes: object(2)\n",
      "memory usage: 2.5+ MB\n"
     ]
    }
   ],
   "source": [
    "df.info() # checking the information of the dataset."
   ]
  },
  {
   "cell_type": "code",
   "execution_count": 6,
   "metadata": {
    "colab": {
     "base_uri": "https://localhost:8080/",
     "height": 175
    },
    "id": "HmgXcIwQ90WV",
    "outputId": "911295b8-f705-43df-838c-41284357da5b"
   },
   "outputs": [
    {
     "data": {
      "application/vnd.google.colaboratory.intrinsic+json": {
       "summary": "{\n  \"name\": \"df\",\n  \"rows\": 4,\n  \"fields\": [\n    {\n      \"column\": \"tweets\",\n      \"properties\": {\n        \"dtype\": \"string\",\n        \"num_unique_values\": 4,\n        \"samples\": [\n          162448,\n          \"2\",\n          \"162449\"\n        ],\n        \"semantic_type\": \"\",\n        \"description\": \"\"\n      }\n    },\n    {\n      \"column\": \"labels\",\n      \"properties\": {\n        \"dtype\": \"string\",\n        \"num_unique_values\": 4,\n        \"samples\": [\n          2,\n          \"106695\",\n          \"162449\"\n        ],\n        \"semantic_type\": \"\",\n        \"description\": \"\"\n      }\n    }\n  ]\n}",
       "type": "dataframe"
      },
      "text/html": [
       "\n",
       "  <div id=\"df-a82cc203-d544-4237-ac9f-f0b54d920a82\" class=\"colab-df-container\">\n",
       "    <div>\n",
       "<style scoped>\n",
       "    .dataframe tbody tr th:only-of-type {\n",
       "        vertical-align: middle;\n",
       "    }\n",
       "\n",
       "    .dataframe tbody tr th {\n",
       "        vertical-align: top;\n",
       "    }\n",
       "\n",
       "    .dataframe thead th {\n",
       "        text-align: right;\n",
       "    }\n",
       "</style>\n",
       "<table border=\"1\" class=\"dataframe\">\n",
       "  <thead>\n",
       "    <tr style=\"text-align: right;\">\n",
       "      <th></th>\n",
       "      <th>tweets</th>\n",
       "      <th>labels</th>\n",
       "    </tr>\n",
       "  </thead>\n",
       "  <tbody>\n",
       "    <tr>\n",
       "      <th>count</th>\n",
       "      <td>162449</td>\n",
       "      <td>162449</td>\n",
       "    </tr>\n",
       "    <tr>\n",
       "      <th>unique</th>\n",
       "      <td>162448</td>\n",
       "      <td>2</td>\n",
       "    </tr>\n",
       "    <tr>\n",
       "      <th>top</th>\n",
       "      <td>#NAME?</td>\n",
       "      <td>bad</td>\n",
       "    </tr>\n",
       "    <tr>\n",
       "      <th>freq</th>\n",
       "      <td>2</td>\n",
       "      <td>106695</td>\n",
       "    </tr>\n",
       "  </tbody>\n",
       "</table>\n",
       "</div>\n",
       "    <div class=\"colab-df-buttons\">\n",
       "\n",
       "  <div class=\"colab-df-container\">\n",
       "    <button class=\"colab-df-convert\" onclick=\"convertToInteractive('df-a82cc203-d544-4237-ac9f-f0b54d920a82')\"\n",
       "            title=\"Convert this dataframe to an interactive table.\"\n",
       "            style=\"display:none;\">\n",
       "\n",
       "  <svg xmlns=\"http://www.w3.org/2000/svg\" height=\"24px\" viewBox=\"0 -960 960 960\">\n",
       "    <path d=\"M120-120v-720h720v720H120Zm60-500h600v-160H180v160Zm220 220h160v-160H400v160Zm0 220h160v-160H400v160ZM180-400h160v-160H180v160Zm440 0h160v-160H620v160ZM180-180h160v-160H180v160Zm440 0h160v-160H620v160Z\"/>\n",
       "  </svg>\n",
       "    </button>\n",
       "\n",
       "  <style>\n",
       "    .colab-df-container {\n",
       "      display:flex;\n",
       "      gap: 12px;\n",
       "    }\n",
       "\n",
       "    .colab-df-convert {\n",
       "      background-color: #E8F0FE;\n",
       "      border: none;\n",
       "      border-radius: 50%;\n",
       "      cursor: pointer;\n",
       "      display: none;\n",
       "      fill: #1967D2;\n",
       "      height: 32px;\n",
       "      padding: 0 0 0 0;\n",
       "      width: 32px;\n",
       "    }\n",
       "\n",
       "    .colab-df-convert:hover {\n",
       "      background-color: #E2EBFA;\n",
       "      box-shadow: 0px 1px 2px rgba(60, 64, 67, 0.3), 0px 1px 3px 1px rgba(60, 64, 67, 0.15);\n",
       "      fill: #174EA6;\n",
       "    }\n",
       "\n",
       "    .colab-df-buttons div {\n",
       "      margin-bottom: 4px;\n",
       "    }\n",
       "\n",
       "    [theme=dark] .colab-df-convert {\n",
       "      background-color: #3B4455;\n",
       "      fill: #D2E3FC;\n",
       "    }\n",
       "\n",
       "    [theme=dark] .colab-df-convert:hover {\n",
       "      background-color: #434B5C;\n",
       "      box-shadow: 0px 1px 3px 1px rgba(0, 0, 0, 0.15);\n",
       "      filter: drop-shadow(0px 1px 2px rgba(0, 0, 0, 0.3));\n",
       "      fill: #FFFFFF;\n",
       "    }\n",
       "  </style>\n",
       "\n",
       "    <script>\n",
       "      const buttonEl =\n",
       "        document.querySelector('#df-a82cc203-d544-4237-ac9f-f0b54d920a82 button.colab-df-convert');\n",
       "      buttonEl.style.display =\n",
       "        google.colab.kernel.accessAllowed ? 'block' : 'none';\n",
       "\n",
       "      async function convertToInteractive(key) {\n",
       "        const element = document.querySelector('#df-a82cc203-d544-4237-ac9f-f0b54d920a82');\n",
       "        const dataTable =\n",
       "          await google.colab.kernel.invokeFunction('convertToInteractive',\n",
       "                                                    [key], {});\n",
       "        if (!dataTable) return;\n",
       "\n",
       "        const docLinkHtml = 'Like what you see? Visit the ' +\n",
       "          '<a target=\"_blank\" href=https://colab.research.google.com/notebooks/data_table.ipynb>data table notebook</a>'\n",
       "          + ' to learn more about interactive tables.';\n",
       "        element.innerHTML = '';\n",
       "        dataTable['output_type'] = 'display_data';\n",
       "        await google.colab.output.renderOutput(dataTable, element);\n",
       "        const docLink = document.createElement('div');\n",
       "        docLink.innerHTML = docLinkHtml;\n",
       "        element.appendChild(docLink);\n",
       "      }\n",
       "    </script>\n",
       "  </div>\n",
       "\n",
       "\n",
       "<div id=\"df-d9c2fffa-c1c9-488b-92b4-a1748412cbd2\">\n",
       "  <button class=\"colab-df-quickchart\" onclick=\"quickchart('df-d9c2fffa-c1c9-488b-92b4-a1748412cbd2')\"\n",
       "            title=\"Suggest charts\"\n",
       "            style=\"display:none;\">\n",
       "\n",
       "<svg xmlns=\"http://www.w3.org/2000/svg\" height=\"24px\"viewBox=\"0 0 24 24\"\n",
       "     width=\"24px\">\n",
       "    <g>\n",
       "        <path d=\"M19 3H5c-1.1 0-2 .9-2 2v14c0 1.1.9 2 2 2h14c1.1 0 2-.9 2-2V5c0-1.1-.9-2-2-2zM9 17H7v-7h2v7zm4 0h-2V7h2v10zm4 0h-2v-4h2v4z\"/>\n",
       "    </g>\n",
       "</svg>\n",
       "  </button>\n",
       "\n",
       "<style>\n",
       "  .colab-df-quickchart {\n",
       "      --bg-color: #E8F0FE;\n",
       "      --fill-color: #1967D2;\n",
       "      --hover-bg-color: #E2EBFA;\n",
       "      --hover-fill-color: #174EA6;\n",
       "      --disabled-fill-color: #AAA;\n",
       "      --disabled-bg-color: #DDD;\n",
       "  }\n",
       "\n",
       "  [theme=dark] .colab-df-quickchart {\n",
       "      --bg-color: #3B4455;\n",
       "      --fill-color: #D2E3FC;\n",
       "      --hover-bg-color: #434B5C;\n",
       "      --hover-fill-color: #FFFFFF;\n",
       "      --disabled-bg-color: #3B4455;\n",
       "      --disabled-fill-color: #666;\n",
       "  }\n",
       "\n",
       "  .colab-df-quickchart {\n",
       "    background-color: var(--bg-color);\n",
       "    border: none;\n",
       "    border-radius: 50%;\n",
       "    cursor: pointer;\n",
       "    display: none;\n",
       "    fill: var(--fill-color);\n",
       "    height: 32px;\n",
       "    padding: 0;\n",
       "    width: 32px;\n",
       "  }\n",
       "\n",
       "  .colab-df-quickchart:hover {\n",
       "    background-color: var(--hover-bg-color);\n",
       "    box-shadow: 0 1px 2px rgba(60, 64, 67, 0.3), 0 1px 3px 1px rgba(60, 64, 67, 0.15);\n",
       "    fill: var(--button-hover-fill-color);\n",
       "  }\n",
       "\n",
       "  .colab-df-quickchart-complete:disabled,\n",
       "  .colab-df-quickchart-complete:disabled:hover {\n",
       "    background-color: var(--disabled-bg-color);\n",
       "    fill: var(--disabled-fill-color);\n",
       "    box-shadow: none;\n",
       "  }\n",
       "\n",
       "  .colab-df-spinner {\n",
       "    border: 2px solid var(--fill-color);\n",
       "    border-color: transparent;\n",
       "    border-bottom-color: var(--fill-color);\n",
       "    animation:\n",
       "      spin 1s steps(1) infinite;\n",
       "  }\n",
       "\n",
       "  @keyframes spin {\n",
       "    0% {\n",
       "      border-color: transparent;\n",
       "      border-bottom-color: var(--fill-color);\n",
       "      border-left-color: var(--fill-color);\n",
       "    }\n",
       "    20% {\n",
       "      border-color: transparent;\n",
       "      border-left-color: var(--fill-color);\n",
       "      border-top-color: var(--fill-color);\n",
       "    }\n",
       "    30% {\n",
       "      border-color: transparent;\n",
       "      border-left-color: var(--fill-color);\n",
       "      border-top-color: var(--fill-color);\n",
       "      border-right-color: var(--fill-color);\n",
       "    }\n",
       "    40% {\n",
       "      border-color: transparent;\n",
       "      border-right-color: var(--fill-color);\n",
       "      border-top-color: var(--fill-color);\n",
       "    }\n",
       "    60% {\n",
       "      border-color: transparent;\n",
       "      border-right-color: var(--fill-color);\n",
       "    }\n",
       "    80% {\n",
       "      border-color: transparent;\n",
       "      border-right-color: var(--fill-color);\n",
       "      border-bottom-color: var(--fill-color);\n",
       "    }\n",
       "    90% {\n",
       "      border-color: transparent;\n",
       "      border-bottom-color: var(--fill-color);\n",
       "    }\n",
       "  }\n",
       "</style>\n",
       "\n",
       "  <script>\n",
       "    async function quickchart(key) {\n",
       "      const quickchartButtonEl =\n",
       "        document.querySelector('#' + key + ' button');\n",
       "      quickchartButtonEl.disabled = true;  // To prevent multiple clicks.\n",
       "      quickchartButtonEl.classList.add('colab-df-spinner');\n",
       "      try {\n",
       "        const charts = await google.colab.kernel.invokeFunction(\n",
       "            'suggestCharts', [key], {});\n",
       "      } catch (error) {\n",
       "        console.error('Error during call to suggestCharts:', error);\n",
       "      }\n",
       "      quickchartButtonEl.classList.remove('colab-df-spinner');\n",
       "      quickchartButtonEl.classList.add('colab-df-quickchart-complete');\n",
       "    }\n",
       "    (() => {\n",
       "      let quickchartButtonEl =\n",
       "        document.querySelector('#df-d9c2fffa-c1c9-488b-92b4-a1748412cbd2 button');\n",
       "      quickchartButtonEl.style.display =\n",
       "        google.colab.kernel.accessAllowed ? 'block' : 'none';\n",
       "    })();\n",
       "  </script>\n",
       "</div>\n",
       "\n",
       "    </div>\n",
       "  </div>\n"
      ],
      "text/plain": [
       "        tweets  labels\n",
       "count   162449  162449\n",
       "unique  162448       2\n",
       "top     #NAME?     bad\n",
       "freq         2  106695"
      ]
     },
     "execution_count": 6,
     "metadata": {},
     "output_type": "execute_result"
    }
   ],
   "source": [
    "df.describe(include='all') # checking the statistics of the dataset."
   ]
  },
  {
   "cell_type": "code",
   "execution_count": 7,
   "metadata": {
    "colab": {
     "base_uri": "https://localhost:8080/"
    },
    "id": "iQPoVHbx-Bqx",
    "outputId": "31303bc0-4db8-4362-ffec-af0e3571d2d1"
   },
   "outputs": [
    {
     "data": {
      "text/plain": [
       "tweets    0\n",
       "labels    0\n",
       "dtype: int64"
      ]
     },
     "execution_count": 7,
     "metadata": {},
     "output_type": "execute_result"
    }
   ],
   "source": [
    "df.isnull().sum() # checking the null values in the dataset."
   ]
  },
  {
   "cell_type": "code",
   "execution_count": 8,
   "metadata": {
    "colab": {
     "base_uri": "https://localhost:8080/"
    },
    "id": "UKmj3ZzF-GE7",
    "outputId": "38ce4028-9ed0-4d63-da37-69058b2b1e5c"
   },
   "outputs": [
    {
     "data": {
      "text/plain": [
       "0"
      ]
     },
     "execution_count": 8,
     "metadata": {},
     "output_type": "execute_result"
    }
   ],
   "source": [
    "df.duplicated().sum() # checking the duplicate values in the dataset."
   ]
  },
  {
   "cell_type": "code",
   "execution_count": 9,
   "metadata": {
    "colab": {
     "base_uri": "https://localhost:8080/"
    },
    "id": "iePl2EWN-N5W",
    "outputId": "7368d7a1-48a0-4e04-95c2-4f8982031d75"
   },
   "outputs": [
    {
     "data": {
      "text/plain": [
       "Index(['tweets', 'labels'], dtype='object')"
      ]
     },
     "execution_count": 9,
     "metadata": {},
     "output_type": "execute_result"
    }
   ],
   "source": [
    "df.columns # checking the columns of the dataset."
   ]
  },
  {
   "cell_type": "code",
   "execution_count": 10,
   "metadata": {
    "colab": {
     "base_uri": "https://localhost:8080/"
    },
    "id": "6FZQEEaM-Rgt",
    "outputId": "18dab7c3-7032-4ec5-dbca-29770c8c3941"
   },
   "outputs": [
    {
     "data": {
      "text/plain": [
       "tweets\n",
       "#NAME?                                                                                                                                                                                                                                   2\n",
       "Google vs. ChatGPT: Here’s what happened when I swapped services for a day https://t.co/PMxWim6T2Y #CNBC https://t.co/5KlLGyN5cY                                                                                                         1\n",
       "ChatGPT is pretty amazing. https://t.co/FzaOUBlPkp\\n\\nI asked it to write an essay comparing jazz and blues, and it did it in 30 seconds.                                                                                                1\n",
       "Uhh #chatgpt can write in Danish too.                                                                                                                                                                                                    1\n",
       "#Storytime with  #ChatGPT https://t.co/Au3GYmA3UF                                                                                                                                                                                        1\n",
       "                                                                                                                                                                                                                                        ..\n",
       "The servers of chatGPT are overloaded. https://t.co/DoQFKO3O8Y                                                                                                                                                                           1\n",
       "Reading for Mila content generated by #ChatGPT 🤯🤯🤯                                                                                                                                                                                       1\n",
       "Me. (1/4) \"How could a doctor use ChatGPT?\" https://t.co/fmwwmuYRIF                                                                                                                                                                      1\n",
       "brilliant from @ibogost on ChatGPT: \"Such a thing is compelling not because it offers answers in the form of text, but because it makes it possible to play text—all the text, almost—like an instrument.\"\\n\\nhttps://t.co/nCicGpwFxK    1\n",
       "2023 predictions by #chatGPT. Nothing really specific, just some trends from the past years. \\nShould be around this topic, we will see in 364 days 🎉 https://t.co/4ZD3kpH0DC                                                            1\n",
       "Name: count, Length: 162448, dtype: int64"
      ]
     },
     "execution_count": 10,
     "metadata": {},
     "output_type": "execute_result"
    }
   ],
   "source": [
    "df['tweets'].value_counts() # checking the unique values in the tweets column."
   ]
  },
  {
   "cell_type": "code",
   "execution_count": 11,
   "metadata": {
    "colab": {
     "base_uri": "https://localhost:8080/"
    },
    "id": "RGy6asYV-T6I",
    "outputId": "4b7d981a-d4e6-442e-bbe1-ab39d0a3f4b2"
   },
   "outputs": [
    {
     "data": {
      "text/plain": [
       "labels\n",
       "bad     106695\n",
       "good     55754\n",
       "Name: count, dtype: int64"
      ]
     },
     "execution_count": 11,
     "metadata": {},
     "output_type": "execute_result"
    }
   ],
   "source": [
    "df['labels'].value_counts() # checking the unique values in the labels column."
   ]
  },
  {
   "cell_type": "markdown",
   "metadata": {
    "id": "gLbMH2zB-v3n"
   },
   "source": [
    "**Text Pre-Processing**"
   ]
  },
  {
   "cell_type": "code",
   "execution_count": 12,
   "metadata": {
    "id": "uHlwMqkh-uO6"
   },
   "outputs": [],
   "source": [
    "import re # regular expression library\n",
    "\n",
    "def remove_urls(text): # function to remove urls from the text.\n",
    "    url_regex = re.compile(r'https?://\\S+|www\\.\\S+') # regular expression pattern for URLs\n",
    "    return url_regex.sub('', text) # replace URLs with an empty string\n",
    "\n",
    "\n",
    "df['tweets'] = [remove_urls(review) for review in df['tweets']] # apply the function to the 'tweets' column of the DataFrame\n"
   ]
  },
  {
   "cell_type": "code",
   "execution_count": 13,
   "metadata": {
    "colab": {
     "base_uri": "https://localhost:8080/"
    },
    "id": "t0exSlBw_AUb",
    "outputId": "02adf34e-faa4-4719-fb3a-0fc744532b9f"
   },
   "outputs": [
    {
     "data": {
      "text/plain": [
       "tweets\n",
       "#MidJourney #OpenAi #GPT #StableDiffusion2 #DallE #ChatGPT\\njoin:  ''                                                                                                                               461\n",
       "ChatGPT                                                                                                                                                                                             297\n",
       "I‘m participating in the #Pisces #AIGC Campaign to win $300 and #Freemint #NFT, thanks to @PiscesBaishui ’s #giveaway!  #ChatGPT #OpenAI                                                            163\n",
       "Building A Virtual Machine inside ChatGPT                                                                                                                                                           131\n",
       "🎉 #Giveaway #Airdrop #nft #eth #doge #usdt #btc #web3 #ChatGPT New Giveaway:PeopleDAO (📜,🤝) Marketing Campaign🪂I have received $6USDT💵, come to complete the activity and get it for free! 👉🏿👉🏿      99\n",
       "                                                                                                                                                                                                   ... \n",
       "I think I will ask #chatGPT to stop answering people!                                                                                                                                                 1\n",
       "ChatGPT vs. Google Search                                                                                                                                                                             1\n",
       "Alexa + ChatGPT = 🤯                                                                                                                                                                                   1\n",
       "ChatGPT writes and refines code                                                                                                                                                                       1\n",
       "2023 predictions by #chatGPT. Nothing really specific, just some trends from the past years. \\nShould be around this topic, we will see in 364 days 🎉                                                 1\n",
       "Name: count, Length: 150976, dtype: int64"
      ]
     },
     "execution_count": 13,
     "metadata": {},
     "output_type": "execute_result"
    }
   ],
   "source": [
    "df['tweets'].value_counts() # checking the unique values in the tweets column."
   ]
  },
  {
   "cell_type": "code",
   "execution_count": 14,
   "metadata": {
    "id": "h5Bp_bd9_Qvo"
   },
   "outputs": [],
   "source": [
    "import nltk\n",
    "import re\n",
    "from nltk.corpus import stopwords\n",
    "from nltk.stem.porter import PorterStemmer # stemming library"
   ]
  },
  {
   "cell_type": "code",
   "execution_count": 15,
   "metadata": {
    "colab": {
     "base_uri": "https://localhost:8080/"
    },
    "id": "YvRBumef_a-C",
    "outputId": "ab8ca069-5c17-40af-9795-9220da4ec5a0"
   },
   "outputs": [
    {
     "name": "stderr",
     "output_type": "stream",
     "text": [
      "[nltk_data] Downloading package stopwords to /root/nltk_data...\n",
      "[nltk_data]   Unzipping corpora/stopwords.zip.\n"
     ]
    },
    {
     "data": {
      "text/plain": [
       "True"
      ]
     },
     "execution_count": 15,
     "metadata": {},
     "output_type": "execute_result"
    }
   ],
   "source": [
    "nltk.download('stopwords') # download the stopwords library"
   ]
  },
  {
   "cell_type": "code",
   "execution_count": 16,
   "metadata": {
    "colab": {
     "base_uri": "https://localhost:8080/"
    },
    "id": "FLqw7NVV_fQN",
    "outputId": "7e2aaf37-1e58-4aa2-fdbc-39794d5774a1"
   },
   "outputs": [
    {
     "name": "stderr",
     "output_type": "stream",
     "text": [
      "[nltk_data] Downloading package stopwords to /root/nltk_data...\n",
      "[nltk_data]   Package stopwords is already up-to-date!\n"
     ]
    }
   ],
   "source": [
    "ps = PorterStemmer() # create an instance of the PorterStemmer class\n",
    "corpus = [] # create an empty list to store the preprocessed tweets\n",
    "# Iterate over the values in the 'tweets' column directly\n",
    "for tweet in df['tweets']: # iterate over the 'tweets' column of the DataFrame\n",
    "    review = re.sub('[^a-zA-Z]', ' ', tweet) # remove non-alphabetic characters\n",
    "    review = review.lower() # convert to lowercase\n",
    "    review = review.split() # split into words\n",
    "\n",
    "    review = [ps.stem(word) for word in review if not word in stopwords.words('english')] # apply stemming and remove stopwords\n",
    "    review = ' '.join(review) # join the words back into a single string\n",
    "    corpus.append(review) # add the preprocessed tweet to the corpus list"
   ]
  },
  {
   "cell_type": "code",
   "execution_count": 17,
   "metadata": {
    "colab": {
     "base_uri": "https://localhost:8080/"
    },
    "id": "mvIY4SZPAt1s",
    "outputId": "3a24b4cf-ccb1-4f24-fcdd-e33013bb3654"
   },
   "outputs": [
    {
     "data": {
      "text/plain": [
       "['tri talk chatgpt new ai system optim dialogu feedback help us improv',\n",
       " 'thrill share chatgpt new model optim dialog public free access everyon',\n",
       " 'minut ago openai releas new chatgpt n nand use right',\n",
       " 'launch chatgpt new ai system optim dialogu',\n",
       " 'minut ago openai releas new chatgpt n nand use right n n']"
      ]
     },
     "execution_count": 17,
     "metadata": {},
     "output_type": "execute_result"
    }
   ],
   "source": [
    "corpus[:5] # printing the first five preprocessed tweets."
   ]
  },
  {
   "cell_type": "markdown",
   "metadata": {
    "id": "S40epgxLqXDk"
   },
   "source": [
    "**Importing Necessary Libraries for Model Building**"
   ]
  },
  {
   "cell_type": "code",
   "execution_count": 18,
   "metadata": {
    "id": "gvJwmigdDiW7"
   },
   "outputs": [],
   "source": [
    "from tensorflow.keras.layers import Embedding\n",
    "from tensorflow.keras.preprocessing.sequence import pad_sequences\n",
    "from tensorflow.keras.models import Sequential\n",
    "from tensorflow.keras.preprocessing.text import one_hot\n",
    "from tensorflow.keras.layers import LSTM\n",
    "from tensorflow.keras.layers import Dense\n",
    "from tensorflow.keras.layers import Bidirectional\n",
    "from tensorflow.keras.layers import Dropout"
   ]
  },
  {
   "cell_type": "code",
   "execution_count": 19,
   "metadata": {
    "id": "3VJioovMDwIC"
   },
   "outputs": [],
   "source": [
    "### Vocabulary size\n",
    "voc_size=5000 # setting the vocabulary size to 5000."
   ]
  },
  {
   "cell_type": "code",
   "execution_count": 20,
   "metadata": {
    "id": "jSsOZThCD1pw"
   },
   "outputs": [],
   "source": [
    "onehot_repr=[one_hot(words,voc_size)for words in corpus] # one-hot encoding the preprocessed tweets."
   ]
  },
  {
   "cell_type": "code",
   "execution_count": 21,
   "metadata": {
    "colab": {
     "base_uri": "https://localhost:8080/"
    },
    "id": "nxT1esOYECyp",
    "outputId": "bf018d22-9015-485f-b96e-8c961870b662"
   },
   "outputs": [
    {
     "data": {
      "text/plain": [
       "[[164, 326, 1039, 2812, 585, 464, 4870, 4127, 3063, 3688, 4716, 4988],\n",
       " [2020, 768, 1039, 2812, 4765, 4870, 3674, 2773, 3534, 1906, 1021],\n",
       " [2230, 1859, 374, 4951, 2812, 1039, 4267, 1881, 422, 54],\n",
       " [4722, 1039, 2812, 585, 464, 4870, 4127],\n",
       " [2230, 1859, 374, 4951, 2812, 1039, 4267, 1881, 422, 54, 4267, 4267]]"
      ]
     },
     "execution_count": 21,
     "metadata": {},
     "output_type": "execute_result"
    }
   ],
   "source": [
    "onehot_repr[:5] # printing the first five one-hot encoded tweets."
   ]
  },
  {
   "cell_type": "code",
   "execution_count": 22,
   "metadata": {
    "colab": {
     "base_uri": "https://localhost:8080/"
    },
    "id": "qD6Kt8swEG-a",
    "outputId": "638edff8-7753-4844-8903-5bcb16e5b971"
   },
   "outputs": [
    {
     "data": {
      "text/plain": [
       "53"
      ]
     },
     "execution_count": 22,
     "metadata": {},
     "output_type": "execute_result"
    }
   ],
   "source": [
    "len(max(onehot_repr,key=len)) # checking the length of the longest one-hot encoded tweet."
   ]
  },
  {
   "cell_type": "code",
   "execution_count": 23,
   "metadata": {
    "id": "3-W_oRVjEZrp"
   },
   "outputs": [],
   "source": [
    "sent_length=55 # setting the maximum sentence length to 55.\n",
    "embedded_docs=pad_sequences(onehot_repr,padding='pre',maxlen=sent_length) # padding the one-hot encoded tweets to the maximum sentence length."
   ]
  },
  {
   "cell_type": "code",
   "execution_count": 24,
   "metadata": {
    "colab": {
     "base_uri": "https://localhost:8080/"
    },
    "id": "NJlAK2s0E8Lm",
    "outputId": "dd45cf91-1304-462c-b167-a803e330c75e"
   },
   "outputs": [
    {
     "data": {
      "text/plain": [
       "array([[   0,    0,    0, ..., 3688, 4716, 4988],\n",
       "       [   0,    0,    0, ..., 3534, 1906, 1021],\n",
       "       [   0,    0,    0, ..., 1881,  422,   54],\n",
       "       ...,\n",
       "       [   0,    0,    0, ...,  786, 3027,   51],\n",
       "       [   0,    0,    0, ..., 1039, 4612,  654],\n",
       "       [   0,    0,    0, ..., 2472,  220, 3447]], dtype=int32)"
      ]
     },
     "execution_count": 24,
     "metadata": {},
     "output_type": "execute_result"
    }
   ],
   "source": [
    "embedded_docs # printing the first five embedded tweets."
   ]
  },
  {
   "cell_type": "code",
   "execution_count": 25,
   "metadata": {
    "colab": {
     "base_uri": "https://localhost:8080/"
    },
    "id": "7iq3SOXrFAmT",
    "outputId": "325c4069-2bc2-4317-a63d-bf4fa2fcd00d"
   },
   "outputs": [
    {
     "data": {
      "text/plain": [
       "array([   0,    0,    0,    0,    0,    0,    0,    0,    0,    0,    0,\n",
       "          0,    0,    0,    0,    0,    0,    0,    0,    0,    0,    0,\n",
       "          0,    0,    0,    0,    0,    0,    0,    0,    0,    0,    0,\n",
       "          0,    0,    0,    0,    0,    0,    0,    0,    0,    0,  164,\n",
       "        326, 1039, 2812,  585,  464, 4870, 4127, 3063, 3688, 4716, 4988],\n",
       "      dtype=int32)"
      ]
     },
     "execution_count": 25,
     "metadata": {},
     "output_type": "execute_result"
    }
   ],
   "source": [
    "embedded_docs[0] # printing the first embedded tweet."
   ]
  },
  {
   "cell_type": "code",
   "execution_count": 26,
   "metadata": {
    "id": "JZRZImuZFUkA"
   },
   "outputs": [],
   "source": [
    "y=df['labels'] # assigning the labels column to the y variable."
   ]
  },
  {
   "cell_type": "code",
   "execution_count": 27,
   "metadata": {
    "colab": {
     "base_uri": "https://localhost:8080/"
    },
    "id": "XLPHKq0cFsDh",
    "outputId": "a680338f-6574-4550-856c-4cae9ec84f35"
   },
   "outputs": [
    {
     "data": {
      "text/plain": [
       "(162449, (162449,))"
      ]
     },
     "execution_count": 27,
     "metadata": {},
     "output_type": "execute_result"
    }
   ],
   "source": [
    "\n",
    "len(embedded_docs),y.shape # checking the length of the embedded tweets and the shape of the labels."
   ]
  },
  {
   "cell_type": "code",
   "execution_count": 28,
   "metadata": {
    "id": "zdLbj9jXFtS6"
   },
   "outputs": [],
   "source": [
    "X_final=np.array(embedded_docs) # converting the embedded tweets to a numpy array.\n",
    "y_final=np.array(y) # converting the labels to a numpy array."
   ]
  },
  {
   "cell_type": "code",
   "execution_count": 29,
   "metadata": {
    "colab": {
     "base_uri": "https://localhost:8080/"
    },
    "id": "4IoupHqzFxxa",
    "outputId": "5b774471-4cf8-4b6e-fe17-f16ad3a1a411"
   },
   "outputs": [
    {
     "data": {
      "text/plain": [
       "((162449, 55), (162449,))"
      ]
     },
     "execution_count": 29,
     "metadata": {},
     "output_type": "execute_result"
    }
   ],
   "source": [
    "X_final.shape,y_final.shape # checking the shape of the embedded tweets and the labels."
   ]
  },
  {
   "cell_type": "code",
   "execution_count": 30,
   "metadata": {
    "id": "j5_FR2bWF07x"
   },
   "outputs": [],
   "source": [
    "from sklearn.model_selection import train_test_split # importing the train_test_split function from scikit-learn.\n",
    "X_train, X_test, y_train, y_test = train_test_split(X_final, y_final, test_size=0.33, random_state=42) # splitting the data into training and testing sets."
   ]
  },
  {
   "cell_type": "code",
   "execution_count": 31,
   "metadata": {
    "colab": {
     "base_uri": "https://localhost:8080/"
    },
    "id": "np8GbAslQqEX",
    "outputId": "5695c62c-3d18-4835-f9cf-2cf1d96490cf"
   },
   "outputs": [
    {
     "name": "stdout",
     "output_type": "stream",
     "text": [
      "X_train data type: int32\n",
      "y_train data type: object\n",
      "X_test data type: int32\n",
      "y_test data type: object\n",
      "Unique values in y_train: ['bad' 'good']\n",
      "Unique values in y_test: ['bad' 'good']\n"
     ]
    }
   ],
   "source": [
    "print(\"X_train data type:\", X_train.dtype)\n",
    "print(\"y_train data type:\", y_train.dtype)\n",
    "print(\"X_test data type:\", X_test.dtype)\n",
    "print(\"y_test data type:\", y_test.dtype)\n",
    "\n",
    "print(\"Unique values in y_train:\", np.unique(y_train))\n",
    "print(\"Unique values in y_test:\", np.unique(y_test))"
   ]
  },
  {
   "cell_type": "code",
   "execution_count": 32,
   "metadata": {
    "id": "xERg4hwAQuXv"
   },
   "outputs": [],
   "source": [
    "from sklearn.preprocessing import LabelEncoder # importing the LabelEncoder class from scikit-learn.\n",
    "le = LabelEncoder() # creating an instance of the LabelEncoder class.\n",
    "y_train = le.fit_transform(y_train) # fitting the LabelEncoder to the training labels and transforming them.\n",
    "y_test = le.transform(y_test) # transforming the testing labels."
   ]
  },
  {
   "cell_type": "code",
   "execution_count": 33,
   "metadata": {
    "colab": {
     "base_uri": "https://localhost:8080/"
    },
    "id": "ZYkn9I0mGGxp",
    "outputId": "7c130ccc-3ec4-48cd-e37a-62e63a6059ae"
   },
   "outputs": [
    {
     "name": "stdout",
     "output_type": "stream",
     "text": [
      "Model: \"sequential\"\n",
      "_________________________________________________________________\n",
      " Layer (type)                Output Shape              Param #   \n",
      "=================================================================\n",
      " embedding (Embedding)       (None, 55, 40)            200000    \n",
      "                                                                 \n",
      " lstm (LSTM)                 (None, 100)               56400     \n",
      "                                                                 \n",
      " dense (Dense)               (None, 1)                 101       \n",
      "                                                                 \n",
      "=================================================================\n",
      "Total params: 256501 (1001.96 KB)\n",
      "Trainable params: 256501 (1001.96 KB)\n",
      "Non-trainable params: 0 (0.00 Byte)\n",
      "_________________________________________________________________\n",
      "None\n"
     ]
    }
   ],
   "source": [
    "## Creating model\n",
    "embedding_vector_features=40 # setting the embedding vector size to 40.\n",
    "model=Sequential() # creating a sequential model.\n",
    "model.add(Embedding(voc_size,embedding_vector_features,input_length=sent_length)) # adding an embedding layer.\n",
    "model.add(LSTM(100)) # adding an LSTM layer.\n",
    "model.add(Dense(1,activation='sigmoid')) # adding a dense layer with sigmoid activation function.\n",
    "model.compile(loss='binary_crossentropy',optimizer='adam',metrics=['accuracy']) # compiling the model.\n",
    "print(model.summary()) # printing the model summary.\n"
   ]
  },
  {
   "cell_type": "code",
   "execution_count": 34,
   "metadata": {
    "colab": {
     "base_uri": "https://localhost:8080/"
    },
    "id": "R4790D2gF5Jh",
    "outputId": "9eba2686-f414-4d93-a12e-526d14b2d4b3"
   },
   "outputs": [
    {
     "name": "stdout",
     "output_type": "stream",
     "text": [
      "Epoch 1/10\n",
      "1701/1701 [==============================] - 50s 27ms/step - loss: 0.2490 - accuracy: 0.8994 - val_loss: 0.1959 - val_accuracy: 0.9246\n",
      "Epoch 2/10\n",
      "1701/1701 [==============================] - 16s 9ms/step - loss: 0.1807 - accuracy: 0.9320 - val_loss: 0.1890 - val_accuracy: 0.9270\n",
      "Epoch 3/10\n",
      "1701/1701 [==============================] - 16s 9ms/step - loss: 0.1615 - accuracy: 0.9381 - val_loss: 0.1858 - val_accuracy: 0.9272\n",
      "Epoch 4/10\n",
      "1701/1701 [==============================] - 15s 9ms/step - loss: 0.1437 - accuracy: 0.9451 - val_loss: 0.1931 - val_accuracy: 0.9268\n",
      "Epoch 5/10\n",
      "1701/1701 [==============================] - 18s 10ms/step - loss: 0.1278 - accuracy: 0.9519 - val_loss: 0.2085 - val_accuracy: 0.9211\n",
      "Epoch 6/10\n",
      "1701/1701 [==============================] - 16s 9ms/step - loss: 0.1151 - accuracy: 0.9564 - val_loss: 0.2148 - val_accuracy: 0.9263\n",
      "Epoch 7/10\n",
      "1701/1701 [==============================] - 14s 8ms/step - loss: 0.1029 - accuracy: 0.9613 - val_loss: 0.2238 - val_accuracy: 0.9236\n",
      "Epoch 8/10\n",
      "1701/1701 [==============================] - 14s 9ms/step - loss: 0.0902 - accuracy: 0.9663 - val_loss: 0.2516 - val_accuracy: 0.9235\n",
      "Epoch 9/10\n",
      "1701/1701 [==============================] - 15s 9ms/step - loss: 0.0790 - accuracy: 0.9711 - val_loss: 0.2556 - val_accuracy: 0.9227\n",
      "Epoch 10/10\n",
      "1701/1701 [==============================] - 15s 9ms/step - loss: 0.0672 - accuracy: 0.9759 - val_loss: 0.2905 - val_accuracy: 0.9209\n"
     ]
    },
    {
     "data": {
      "text/plain": [
       "<keras.src.callbacks.History at 0x7dca1daf3670>"
      ]
     },
     "execution_count": 34,
     "metadata": {},
     "output_type": "execute_result"
    }
   ],
   "source": [
    "model.fit(X_train,y_train,validation_data=(X_test,y_test),epochs=10,batch_size=64) # fitting the model to the training data."
   ]
  },
  {
   "cell_type": "code",
   "execution_count": 35,
   "metadata": {
    "colab": {
     "base_uri": "https://localhost:8080/"
    },
    "id": "gpZFRC0qF-1o",
    "outputId": "d9d9a911-5737-4185-c2f1-2b813dd57e78"
   },
   "outputs": [
    {
     "name": "stdout",
     "output_type": "stream",
     "text": [
      "1676/1676 [==============================] - 6s 3ms/step\n",
      "              precision    recall  f1-score   support\n",
      "\n",
      "           0       0.94      0.94      0.94     35230\n",
      "           1       0.88      0.89      0.88     18379\n",
      "\n",
      "    accuracy                           0.92     53609\n",
      "   macro avg       0.91      0.91      0.91     53609\n",
      "weighted avg       0.92      0.92      0.92     53609\n",
      "\n"
     ]
    }
   ],
   "source": [
    "from sklearn.metrics import classification_report # importing the classification_report function from scikit-learn.\n",
    "\n",
    "\n",
    "y_pred=model.predict(X_test) # predicting the labels for the testing data.\n",
    "y_pred = (y_pred > 0.5).astype(int)  # converting the predicted probabilities to binary labels.\n",
    "\n",
    "\n",
    "print(classification_report(y_test,y_pred)) # printing the classification report."
   ]
  },
  {
   "cell_type": "code",
   "execution_count": 36,
   "metadata": {
    "colab": {
     "base_uri": "https://localhost:8080/"
    },
    "id": "6TBt8XRrVJl7",
    "outputId": "a0bebf46-1311-4de9-cbe0-e414dd89cd1b"
   },
   "outputs": [
    {
     "data": {
      "text/plain": [
       "0.8849158979924038"
      ]
     },
     "execution_count": 36,
     "metadata": {},
     "output_type": "execute_result"
    }
   ],
   "source": [
    "from sklearn.metrics import f1_score # importing the f1_score function from scikit-learn.\n",
    "f1_score(y_test, y_pred) # printing the f1 score.\n"
   ]
  },
  {
   "cell_type": "code",
   "execution_count": 36,
   "metadata": {
    "id": "CQVvUZiaVP5m"
   },
   "outputs": [],
   "source": []
  }
 ],
 "metadata": {
  "accelerator": "GPU",
  "colab": {
   "gpuType": "T4",
   "provenance": []
  },
  "kernelspec": {
   "display_name": "Python 3 (ipykernel)",
   "language": "python",
   "name": "python3"
  },
  "language_info": {
   "codemirror_mode": {
    "name": "ipython",
    "version": 3
   },
   "file_extension": ".py",
   "mimetype": "text/x-python",
   "name": "python",
   "nbconvert_exporter": "python",
   "pygments_lexer": "ipython3",
   "version": "3.9.12"
  }
 },
 "nbformat": 4,
 "nbformat_minor": 1
}
